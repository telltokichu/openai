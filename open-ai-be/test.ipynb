{
 "cells": [
  {
   "cell_type": "code",
   "execution_count": 4,
   "metadata": {},
   "outputs": [
    {
     "name": "stdout",
     "output_type": "stream",
     "text": [
      "{\n",
      "  \"id\": \"chatcmpl-7pstlJnwv89Cn3ngejzbNWvOSK78l\",\n",
      "  \"object\": \"chat.completion\",\n",
      "  \"created\": 1692600113,\n",
      "  \"model\": \"gpt-35-turbo\",\n",
      "  \"choices\": [\n",
      "    {\n",
      "      \"index\": 0,\n",
      "      \"finish_reason\": \"stop\",\n",
      "      \"message\": {\n",
      "        \"role\": \"assistant\",\n",
      "        \"content\": \"OpenAI is an artificial intelligence research laboratory consisting of the for-profit corporation OpenAI LP and its parent company, the non-profit OpenAI Inc. The laboratory was founded in December 2015 by Elon Musk, Sam Altman, Greg Brockman, Ilya Sutskever, John Schulman and Wojciech Zaremba. OpenAI aims to research and develop AI in a safe and beneficial way that benefits society as a whole. The organization works on diverse AI-related projects such as natural language processing, robotics, and reinforcement learning. Some noteworthy AI products developed by OpenAI include the GPT series of language prediction models and Gym, a toolkit for reinforcement learning research.\"\n",
      "      }\n",
      "    }\n",
      "  ],\n",
      "  \"usage\": {\n",
      "    \"completion_tokens\": 137,\n",
      "    \"prompt_tokens\": 54,\n",
      "    \"total_tokens\": 191\n",
      "  }\n",
      "}\n",
      "OpenAI is an artificial intelligence research laboratory consisting of the for-profit corporation OpenAI LP and its parent company, the non-profit OpenAI Inc. The laboratory was founded in December 2015 by Elon Musk, Sam Altman, Greg Brockman, Ilya Sutskever, John Schulman and Wojciech Zaremba. OpenAI aims to research and develop AI in a safe and beneficial way that benefits society as a whole. The organization works on diverse AI-related projects such as natural language processing, robotics, and reinforcement learning. Some noteworthy AI products developed by OpenAI include the GPT series of language prediction models and Gym, a toolkit for reinforcement learning research.\n"
     ]
    }
   ],
   "source": [
    "import os\n",
    "import openai\n",
    "openai.api_type = \"azure\"\n",
    "openai.api_base = \"https://abs-pdasearch-poc.openai.azure.com/\"\n",
    "openai.api_version = \"2023-05-15\"\n",
    "openai.api_key = \"aca4384698674bb8906a77782cee479f\"\n",
    "\n",
    "response = openai.ChatCompletion.create(\n",
    "    engine=\"gpt-35-turbo\", # engine = \"deployment_name\".\n",
    "    messages=[\n",
    "        {\"role\": \"system\", \"content\": \"You are a helpful assistant.\"},\n",
    "        {\"role\": \"user\", \"content\": \"Does Azure OpenAI support customer managed keys?\"},\n",
    "        {\"role\": \"assistant\", \"content\": \"Yes, customer managed keys are supported by Azure OpenAI.\"},\n",
    "        {\"role\": \"user\", \"content\": \"What is open ai\"}\n",
    "    ]\n",
    ")\n",
    "\n",
    "print(response)\n",
    "print(response['choices'][0]['message']['content'])"
   ]
  }
 ],
 "metadata": {
  "kernelspec": {
   "display_name": "Python 3.11.4 64-bit",
   "language": "python",
   "name": "python3"
  },
  "language_info": {
   "codemirror_mode": {
    "name": "ipython",
    "version": 3
   },
   "file_extension": ".py",
   "mimetype": "text/x-python",
   "name": "python",
   "nbconvert_exporter": "python",
   "pygments_lexer": "ipython3",
   "version": "3.11.4"
  },
  "orig_nbformat": 4,
  "vscode": {
   "interpreter": {
    "hash": "9e0f17785a68b989d7affb70a6c160480f61047cd3cb73ec73875b5c6c640a27"
   }
  }
 },
 "nbformat": 4,
 "nbformat_minor": 2
}
